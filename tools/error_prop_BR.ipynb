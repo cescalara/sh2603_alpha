{
 "cells": [
  {
   "cell_type": "markdown",
   "metadata": {},
   "source": [
    "# Branching ratio and error propagation calculation\n",
    "\n",
    "Simple error propagation for the branching ratio. Some example inputs fro spring 2017 with simple percentage erros are shown here. \n",
    "\n",
    "BR_sf = (0.5 x A_sf)  /  ( (0.5 x A_sf) + A_a )"
   ]
  },
  {
   "cell_type": "code",
   "execution_count": 3,
   "metadata": {},
   "outputs": [],
   "source": [
    "import numpy as np"
   ]
  },
  {
   "cell_type": "markdown",
   "metadata": {},
   "source": [
    "Choose type of calculation, can combine SF measurements (type = 1) or treat separately as 2 peaks (type = 2). "
   ]
  },
  {
   "cell_type": "code",
   "execution_count": 2,
   "metadata": {
    "collapsed": true
   },
   "outputs": [],
   "source": [
    "type = 1 "
   ]
  },
  {
   "cell_type": "markdown",
   "metadata": {},
   "source": [
    "Input count values and errors from the experiment. "
   ]
  },
  {
   "cell_type": "code",
   "execution_count": 4,
   "metadata": {
    "collapsed": true
   },
   "outputs": [],
   "source": [
    "#Input \n",
    "counts_sf_1 = 5228/2\n",
    "counts_sf_2 = 5228/2\n",
    "counts_a = 202741\n",
    "\n",
    "perc_err = 0.1"
   ]
  },
  {
   "cell_type": "markdown",
   "metadata": {},
   "source": [
    "Calculated the BR and its uncertainty."
   ]
  },
  {
   "cell_type": "code",
   "execution_count": 6,
   "metadata": {},
   "outputs": [
    {
     "name": "stdout",
     "output_type": "stream",
     "text": [
      "Branching ratio = 1.272918 % +/- 0.283931\n"
     ]
    }
   ],
   "source": [
    "if type == 2:\n",
    "    #Branching ratio calculation\n",
    "    num = 0.5*(counts_sf_1 + counts_sf_2)\n",
    "    den = 0.5*(counts_sf_1 + counts_sf_2) + counts_a\n",
    "    BR = num/den\n",
    "\n",
    "    #Error calculation\n",
    "    err_sf_1 = perc_err*counts_sf_1\n",
    "    err_sf_2 = perc_err*counts_sf_2\n",
    "    err_a = perc_err*counts_a\n",
    "\n",
    "    err_num = np.sqrt(err_sf_1**2 + err_sf_2**2)\n",
    "    err_den = np.sqrt(err_sf_1**2 + err_sf_2**2 + err_a**2)\n",
    "\n",
    "    err_BR = BR*np.sqrt( (err_num/num)**2 + (err_den/den)**2 )\n",
    "\n",
    "    #print the result\n",
    "    print 'Branching ratio = %f %% +/- %f' % (BR*100, err_BR*100)\n",
    "\n",
    "elif type == 1:\n",
    "    counts_sf_1 = 5228\n",
    "    counts_a = 202741\n",
    "\n",
    "    perc_err = 0.1\n",
    "\n",
    "    #Branching ratio calculation\n",
    "    num = 0.5*(counts_sf_1)\n",
    "    den = 0.5*(counts_sf_1) + counts_a\n",
    "    BR = num/den\n",
    "\n",
    "    #Error calculation\n",
    "    err_sf_1 = perc_err*counts_sf_1\n",
    "    err_a = perc_err*counts_a\n",
    "\n",
    "    err_num = np.sqrt(err_sf_1**2)\n",
    "    err_den = np.sqrt(err_sf_1**2 + err_a**2)\n",
    "\n",
    "    err_BR = BR*np.sqrt( (err_num/num)**2 + (err_den/den)**2 )\n",
    "\n",
    "    #print the result\n",
    "    print 'Branching ratio = %f %% +/- %f' % (BR*100, err_BR*100)"
   ]
  }
 ],
 "metadata": {
  "kernelspec": {
   "display_name": "Python 2",
   "language": "python",
   "name": "python2"
  },
  "language_info": {
   "codemirror_mode": {
    "name": "ipython",
    "version": 2
   },
   "file_extension": ".py",
   "mimetype": "text/x-python",
   "name": "python",
   "nbconvert_exporter": "python",
   "pygments_lexer": "ipython2",
   "version": "2.7.13"
  }
 },
 "nbformat": 4,
 "nbformat_minor": 2
}
